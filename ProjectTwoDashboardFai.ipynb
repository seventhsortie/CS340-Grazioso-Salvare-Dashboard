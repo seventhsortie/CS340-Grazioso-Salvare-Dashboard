{
 "cells": [
  {
   "cell_type": "code",
   "execution_count": 2,
   "id": "3ed24c36",
   "metadata": {
    "scrolled": true
   },
   "outputs": [
    {
     "name": "stdout",
     "output_type": "stream",
     "text": [
      "Dash app running on http://127.0.0.1:13265/\n"
     ]
    }
   ],
   "source": [
    "# All imports\n",
    "from jupyter_dash import JupyterDash\n",
    "import dash_leaflet as dl\n",
    "from dash import dcc, html, dash_table\n",
    "from dash.dependencies import Input, Output\n",
    "import base64\n",
    "import pandas as pd\n",
    "import plotly.express as px\n",
    "from CRUD import AnimalShelter\n",
    "\n",
    "# Login Credentials\n",
    "username = \"aacuser\"\n",
    "password = \"momosushi2013\"\n",
    "host = 'nv-desktop-services.apporto.com'\n",
    "port = 31543\n",
    "db_name = 'aac'\n",
    "collection_name = 'animals'\n",
    "\n",
    "db = AnimalShelter(username, password, host, port, db_name, collection_name)\n",
    "df = pd.DataFrame.from_records(db.read({}))\n",
    "df.drop(columns=['_id'], inplace=True)\n",
    "\n",
    "app = JupyterDash(__name__)\n",
    "\n",
    "image_filename = 'grazsal.png'\n",
    "encoded_image = base64.b64encode(open(image_filename, 'rb').read()).decode()\n",
    "\n",
    "app.layout = html.Div([\n",
    "    html.Div(className='row', style={'textAlign': 'center', 'alignItems': 'center', 'justifyContent': 'center'}, children=[\n",
    "        html.Div(className='col s12', children=[\n",
    "            html.H1('SNHU CS-340 Dashboard'),\n",
    "            html.H2('Faizah Mas Mohd Khalik'),\n",
    "            html.A(html.Img(src=f'data:image/png;base64,{encoded_image}', style={'height':'100px', 'width':'auto'}), href='http://www.snhu.edu', target='_blank'),\n",
    "        ]),\n",
    "    ]),\n",
    "    html.Hr(),\n",
    "    dcc.RadioItems(\n",
    "        id='filter-type',\n",
    "        options=[\n",
    "            {'label': 'Water Rescue', 'value': 'WR'},\n",
    "            {'label': 'Mountain or Wilderness Rescue', 'value': 'MWR'},\n",
    "            {'label': 'Disaster Rescue or Individual Tracking', 'value': 'DRIT'},\n",
    "            {'label': 'Reset', 'value': 'RESET'},\n",
    "        ],\n",
    "        value='RESET',\n",
    "        labelStyle={'display': 'inline-block'}\n",
    "    ),\n",
    "    html.Hr(),\n",
    "    dash_table.DataTable(\n",
    "        id='datatable-id',\n",
    "        columns=[{\"name\": i, \"id\": i} for i in df.columns],\n",
    "        data=df.to_dict('records'),\n",
    "        style_table={'height': '300px', 'overflowY': 'auto'}\n",
    "    ),\n",
    "    html.Div(className='row', style={'display': 'flex', 'marginTop': '20px'}, children=[\n",
    "        html.Div(id='map-id', style={'width': '50%', 'height': '500px'}, className='col s12 m6'),\n",
    "        html.Div(id='graph-id', style={'width': '50%'}, className='col s12 m6'),\n",
    "    ]),\n",
    "])\n",
    "\n",
    "# The Filter\n",
    "@app.callback(\n",
    "    Output('datatable-id', 'data'),\n",
    "    [Input('filter-type', 'value')]\n",
    ")\n",
    "def update_dashboard(filter_type):\n",
    "    if filter_type == 'WR':\n",
    "        df_filtered = df[(df['breed'].isin(['Labrador Retriever Mix', 'Chesapeake Bay Retriever', 'Newfoundland'])) & (df['sex_upon_outcome'] == 'Intact Female') & (df['age_upon_outcome_in_weeks'] >= 26) & (df['age_upon_outcome_in_weeks'] <= 156)]\n",
    "    elif filter_type == 'MWR':\n",
    "        df_filtered = df[(df['breed'].isin(['German Shepherd', 'Alaskan Malamute', 'Old English Sheepdog', 'Siberian Husky', 'Rottweiler'])) & (df['sex_upon_outcome'] == 'Intact Male') & (df['age_upon_outcome_in_weeks'] >= 26) & (df['age_upon_outcome_in_weeks'] <= 156)]\n",
    "    elif filter_type == 'DRIT':\n",
    "        df_filtered = df[(df['breed'].isin(['Doberman Pinscher', 'German Shepherd', 'Golden Retriever', 'Bloodhound', 'Rottweiler'])) & (df['sex_upon_outcome'] == 'Intact Male') & (df['age_upon_outcome_in_weeks'] >= 20) & (df['age_upon_outcome_in_weeks'] <= 300)]\n",
    "    else:\n",
    "        df_filtered = df\n",
    "    return df_filtered.to_dict('records')\n",
    "\n",
    "@app.callback(\n",
    "    Output('map-id', 'children'),\n",
    "    [Input('datatable-id', 'data')]\n",
    ")\n",
    "def update_map(data):\n",
    "    dff = pd.DataFrame(data)\n",
    "    markers = [dl.Marker(position=[row['location_lat'], row['location_long']]) for index, row in dff.iterrows()]\n",
    "    return [dl.Map(center=[30.75, -97.48], zoom=10, children=[dl.TileLayer()] + markers)]\n",
    "\n",
    "@app.callback(\n",
    "    Output('graph-id', 'children'),\n",
    "    [Input('datatable-id', 'data')]\n",
    ")\n",
    "def update_graph(data):\n",
    "    dff = pd.DataFrame(data)\n",
    "    fig = px.pie(dff, names='breed', title='Breed Distribution')\n",
    "    return dcc.Graph(figure=fig)\n",
    "\n",
    "app.run_server(debug=True)\n",
    "\n"
   ]
  },
  {
   "cell_type": "code",
   "execution_count": null,
   "id": "b13a797d",
   "metadata": {},
   "outputs": [],
   "source": []
  }
 ],
 "metadata": {
  "kernelspec": {
   "display_name": "Python 3 (ipykernel)",
   "language": "python",
   "name": "python3"
  },
  "language_info": {
   "codemirror_mode": {
    "name": "ipython",
    "version": 3
   },
   "file_extension": ".py",
   "mimetype": "text/x-python",
   "name": "python",
   "nbconvert_exporter": "python",
   "pygments_lexer": "ipython3",
   "version": "3.9.12"
  },
  "vscode": {
   "interpreter": {
    "hash": "aee8b7b246df8f9039afb4144a1f6fd8d2ca17a180786b69acc140d282b71a49"
   }
  }
 },
 "nbformat": 4,
 "nbformat_minor": 5
}
